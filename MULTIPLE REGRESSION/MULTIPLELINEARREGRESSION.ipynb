{
 "cells": [
  {
   "cell_type": "code",
   "execution_count": 1,
   "id": "9f471b3c-1447-47a4-9297-41484b706b56",
   "metadata": {},
   "outputs": [
    {
     "name": "stderr",
     "output_type": "stream",
     "text": [
      "/usr/local/lib/python3.8/dist-packages/pandas/core/computation/expressions.py:20: UserWarning: Pandas requires version '2.7.3' or newer of 'numexpr' (version '2.7.1' currently installed).\n",
      "  from pandas.core.computation.check import NUMEXPR_INSTALLED\n"
     ]
    },
    {
     "name": "stdout",
     "output_type": "stream",
     "text": [
      "[ 3374275.74258236  8467087.3461399   3228933.93860032  3485721.20977423\n",
      "  2943431.48702819  7352704.08341768  6382959.6960825   4415846.51368986\n",
      "  3795591.61605118  4549847.95241565  2497511.78190204  4024758.13033927\n",
      "  3784659.17677721  5140221.57612997  3770875.45992698  3601966.63677462\n",
      "  4811464.66337201  4005111.45305496  6196312.44143823  6531441.73564234\n",
      "  5162118.23802692  6254182.9259248   4376909.65683143  3470529.74087841\n",
      "  4953684.81362557  2725223.02171866  4849250.19614383  3112385.98903567\n",
      "  5806800.52587643  2911760.31312852  3917891.03837225  4442252.27624915\n",
      "  3877288.94686601  5151873.03705384  6234484.53559916  2749698.07744639\n",
      "  2887797.79604069  6314911.06192025  4960429.00826796  4456248.83657827\n",
      "  3629277.37851151  2316139.22198747  3624467.16899342  7326982.42599862\n",
      "  3343981.44713775  4801355.57603397  3624421.79802205  6286237.73982314\n",
      "  4033370.3592691   5321343.69896924  5170386.42072003  4285843.76445365\n",
      "  5998857.47318344  3931367.02009841  4924680.18213158  5355883.48643212\n",
      "  6832752.70221836  6590920.55114097  5718546.16328431  4361994.9308408\n",
      "  7229970.61465682  6504367.69767541  2640085.48871621  6955745.75063395\n",
      "  3869946.12099824  5669731.56437991  2655732.75250285  3502330.57350741\n",
      "  5040540.32100548  6370845.01857272  5672284.53776198  7489458.87120867\n",
      "  5537837.63031999  3120189.6053027   2800316.23902981  3384006.5858602\n",
      "  3611034.61244871  6368846.39726715  2875376.00063537  2552316.28329299\n",
      " 10612076.64458534  2779176.4064314   8172474.56948844  5415671.07983272\n",
      "  3060634.42946376  5205802.52693241  4555289.24227249  2793373.69282408\n",
      "  3022095.5883279   7356246.91128492  3685971.79009972  5231009.53695535\n",
      "  2621834.71997143  7362051.34508835  6668217.88135126  2880170.97626776\n",
      "  7353515.05388264  3874292.05379112  5226257.81687952  3880596.91647347\n",
      "  4499691.31844799  7349886.63427666  6694270.05334902  3839189.30421378\n",
      "  3377302.9798189   4498129.68981597  2183671.40255699  5008960.73447172\n",
      "  5044805.36782256  3051567.28887135  4943374.85096899  5922286.60484215\n",
      "  7090790.47573868  3275097.42422882  4692221.87408673  3849058.32087454\n",
      "  6490139.76136366  2187887.76321998  5973442.16123246  4436287.02574778\n",
      "  5976577.19668204  3460929.89544671  2829136.86781665  2869342.35093904\n",
      "  4963026.34935908  3477485.49881305  8050302.03988172  4535429.80152585\n",
      "  3045684.52234585  5650128.4705916   4282836.60019949  3365345.46113878\n",
      "  4810024.68451535  5295502.04417643  7337114.88139673  6269810.12380011\n",
      "  3963452.16805433]\n",
      "Intercept = 106710.60688713845\n",
      "Coefficients = [ 2.39150374e+02  1.13029781e+05  9.33917751e+05  4.72088073e+05\n",
      "  5.45138875e+05  2.11867266e+05  2.58240519e+05  1.05633502e+06\n",
      "  8.81137964e+05  2.86719810e+05  6.45592973e+05 -2.12208099e+05]\n",
      "Mean Squared Value = 847923544292.9105\n",
      "R2 Score Value = 0.7518887047711378\n",
      "Predicted Value for new data: [8262734.65645921]\n"
     ]
    },
    {
     "name": "stderr",
     "output_type": "stream",
     "text": [
      "/usr/local/lib/python3.8/dist-packages/sklearn/base.py:465: UserWarning: X does not have valid feature names, but LinearRegression was fitted with feature names\n",
      "  warnings.warn(\n"
     ]
    }
   ],
   "source": [
    "import pandas as pd\n",
    "import matplotlib.pyplot as plt\n",
    "from sklearn.linear_model import LinearRegression\n",
    "from sklearn.metrics import mean_squared_error, r2_score\n",
    "\n",
    "df = pd.read_csv(\"Housing.csv\")\n",
    "df\n",
    "\n",
    "from sklearn.preprocessing import LabelEncoder\n",
    "le = LabelEncoder()\n",
    "# df.iloc[:,1] = le.fit_transform(df.iloc[:,1])\n",
    "\n",
    "col_encode = [ 'mainroad', 'guestroom', 'basement', 'hotwaterheating', 'airconditioning', 'prefarea', 'furnishingstatus' ]\n",
    "for col in col_encode:\n",
    "    df[col] = le.fit_transform(df[col])\n",
    "df\n",
    "\n",
    "x = df.iloc[:,1:]\n",
    "y = df.iloc[:,0]\n",
    "\n",
    "from sklearn.model_selection import train_test_split\n",
    "x_train, x_test, y_train, y_test = train_test_split( x, y, test_size = 0.25, random_state = 50 )\n",
    "\n",
    "model = LinearRegression()\n",
    "model.fit(x_train, y_train)\n",
    "y_pred = model.predict(x_test)\n",
    "print(y_pred)\n",
    "print(f\"Intercept = { model.intercept_}\") \n",
    "print(f\"Coefficients = { model.coef_}\")   \n",
    "print(f\"Mean Squared Value = { mean_squared_error(y_test, y_pred) }\")\n",
    "print(f\"R2 Score Value = { r2_score(y_test, y_pred) }\")\n",
    "\n",
    "y_pred1 = model.predict([[7420,4,2,3,1,0,0,0,1,2,1,0]]) #Predict value for new data \n",
    "print(f\"Predicted Value for new data: {y_pred1}\")"
   ]
  },
  {
   "cell_type": "code",
   "execution_count": 9,
   "id": "e9da13d0-55a7-4918-b44a-f05c795ac056",
   "metadata": {},
   "outputs": [
    {
     "name": "stdout",
     "output_type": "stream",
     "text": [
      "Mean Squared Error: 1535047758428.05\n",
      "R2 score: 0.6435419628959107\n",
      "Prediction on unseen data: 10218580.662254065\n"
     ]
    },
    {
     "name": "stderr",
     "output_type": "stream",
     "text": [
      "C:\\Anaconda\\Lib\\site-packages\\sklearn\\base.py:493: UserWarning: X does not have valid feature names, but LinearRegression was fitted with feature names\n",
      "  warnings.warn(\n"
     ]
    }
   ],
   "source": [
    "import pandas as pd\n",
    "from sklearn.metrics import mean_squared_error, r2_score\n",
    "from sklearn.linear_model import LinearRegression\n",
    "from sklearn.model_selection import train_test_split\n",
    "from sklearn.preprocessing import LabelEncoder\n",
    "\n",
    "df = pd.read_csv('Housing.csv')\n",
    "\n",
    "le = LabelEncoder()\n",
    "columnencoder = ['mainroad', 'guestroom', 'basement', 'hotwaterheating', 'airconditioning', 'prefarea', 'furnishingstatus']\n",
    "for col in columnencoder:\n",
    "    df[col] = le.fit_transform(df[col])\n",
    "\n",
    "x = df.iloc[:, 1:]\n",
    "y = df.iloc[:, 0]\n",
    "\n",
    "x_train, x_test, y_train, y_test = train_test_split(x, y, test_size = 0.3, random_state = 42)\n",
    "\n",
    "model = LinearRegression()\n",
    "model.fit(x_train, y_train)\n",
    "y_pred = model.predict(x_test)\n",
    "\n",
    "print(f\"Mean Squared Error: {mean_squared_error(y_test, y_pred)}\")\n",
    "print(f\"R2 score: {r2_score(y_test, y_pred)}\")\n",
    "\n",
    "unseendata = model.predict([[ 7400, 3,4,1,1,1,1,1,1,1,1,1]])\n",
    "print(f\"Prediction on unseen data: {unseendata[0]}\")"
   ]
  }
 ],
 "metadata": {
  "kernelspec": {
   "display_name": "Python 3 (ipykernel)",
   "language": "python",
   "name": "python3"
  },
  "language_info": {
   "codemirror_mode": {
    "name": "ipython",
    "version": 3
   },
   "file_extension": ".py",
   "mimetype": "text/x-python",
   "name": "python",
   "nbconvert_exporter": "python",
   "pygments_lexer": "ipython3",
   "version": "3.12.4"
  }
 },
 "nbformat": 4,
 "nbformat_minor": 5
}
