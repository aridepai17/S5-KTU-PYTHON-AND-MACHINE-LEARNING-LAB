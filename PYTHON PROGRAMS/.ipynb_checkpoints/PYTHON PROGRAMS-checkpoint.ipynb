{
 "cells": [
  {
   "cell_type": "code",
   "execution_count": 3,
   "id": "a14fdac9-f3c9-405b-a8fa-2d69fbd85ac9",
   "metadata": {},
   "outputs": [
    {
     "name": "stdin",
     "output_type": "stream",
     "text": [
      "Enter a sentence:  notme\n"
     ]
    },
    {
     "name": "stdout",
     "output_type": "stream",
     "text": [
      "Palindrome:  False\n"
     ]
    }
   ],
   "source": [
    "#Check if string is palindrome or not\n",
    "def ispalindrome(s):\n",
    "    return s == s[::-1]\n",
    "\n",
    "s = input(\"Enter a sentence: \")\n",
    "print(\"Palindrome: \", ispalindrome(s))"
   ]
  },
  {
   "cell_type": "code",
   "execution_count": 11,
   "id": "ea84ba3d-8668-4ea2-b963-0372fd517c53",
   "metadata": {},
   "outputs": [
    {
     "name": "stdin",
     "output_type": "stream",
     "text": [
      "Enter the number:  4\n"
     ]
    },
    {
     "data": {
      "text/plain": [
       "24"
      ]
     },
     "execution_count": 11,
     "metadata": {},
     "output_type": "execute_result"
    }
   ],
   "source": [
    "#Factorial of a number\n",
    "def factorial(n):\n",
    "    if n == 0 or n == 1:\n",
    "        return 1\n",
    "    else:\n",
    "        return n*factorial(n-1)\n",
    "\n",
    "n = int(input(\"Enter the number: \"))\n",
    "factorial(n)"
   ]
  },
  {
   "cell_type": "code",
   "execution_count": 17,
   "id": "fef9cca2-a91b-4c9c-8f56-9c22d203b03e",
   "metadata": {},
   "outputs": [
    {
     "name": "stdin",
     "output_type": "stream",
     "text": [
      "Enter a sentence:  my my name is is advaith\n"
     ]
    },
    {
     "name": "stdout",
     "output_type": "stream",
     "text": [
      "['my', 'my', 'name', 'is', 'is', 'advaith']\n",
      "{'my': 2, 'name': 1, 'is': 2, 'advaith': 1}\n"
     ]
    }
   ],
   "source": [
    "#Frequency of word in a sentence\n",
    "text = input(\"Enter a sentence: \")\n",
    "list1 = text.split()\n",
    "print(list1)\n",
    "\n",
    "wordcount = {}\n",
    "\n",
    "for word in list1:\n",
    "    word = word.lower()\n",
    "    if word in wordcount:\n",
    "        wordcount[word] += 1\n",
    "    else:\n",
    "        wordcount[word] = 1\n",
    "\n",
    "print(wordcount)"
   ]
  },
  {
   "cell_type": "code",
   "execution_count": 31,
   "id": "95e3f0ae-344e-4016-bbd3-df614ad38a53",
   "metadata": {},
   "outputs": [
    {
     "name": "stdin",
     "output_type": "stream",
     "text": [
      "Enter a word:  advaith\n"
     ]
    },
    {
     "name": "stdout",
     "output_type": "stream",
     "text": [
      "Vowels:  3 Consonants:  4\n"
     ]
    }
   ],
   "source": [
    "#Count vowels and consonants\n",
    "\n",
    "def countvowelsconsonants(s):\n",
    "    vowels = set(\"aeiouAEIOU\")\n",
    "    vowelcount = sum(1 for char in s if char in vowels)\n",
    "    consonantcount = sum(1 for char in s if char.isalpha() and char not in vowels)\n",
    "    return vowelcount, consonantcount\n",
    "\n",
    "s=input(\"Enter a word: \")\n",
    "vowels, consonants = countvowelsconsonants(s)\n",
    "print(\"Vowels: \", vowels, \"Consonants: \", consonants)"
   ]
  },
  {
   "cell_type": "code",
   "execution_count": 43,
   "id": "029661a9-0f28-4044-92cc-911117eb53a1",
   "metadata": {},
   "outputs": [
    {
     "name": "stdin",
     "output_type": "stream",
     "text": [
      " 1 2 3 4 5\n",
      " 1 2 3\n"
     ]
    },
    {
     "name": "stdout",
     "output_type": "stream",
     "text": [
      "Intersection:  [1, 2, 3]\n",
      "Union:  [1, 2, 3, 4, 5]\n"
     ]
    }
   ],
   "source": [
    "#Intersection and Union of two lists\n",
    "\n",
    "def intersectionunion(list1, list2):\n",
    "    intersection = list(set(list1) & set(list2))\n",
    "    union = list(set(list1) | set(list2))\n",
    "    return intersection, union\n",
    "\n",
    "list1 = list(map(int, input().split()))\n",
    "list2 = list(map(int, input().split()))\n",
    "intersection, union = intersectionunion(list1,list2)\n",
    "print(\"Intersection: \", intersection)\n",
    "print(\"Union: \", union)"
   ]
  },
  {
   "cell_type": "code",
   "execution_count": null,
   "id": "b232c864-d8a2-4318-b414-f73c85c2cf1e",
   "metadata": {},
   "outputs": [],
   "source": [
    "#Average, minimum, maximum marks\n",
    "\n"
   ]
  }
 ],
 "metadata": {
  "kernelspec": {
   "display_name": "Python 3 (ipykernel)",
   "language": "python",
   "name": "python3"
  },
  "language_info": {
   "codemirror_mode": {
    "name": "ipython",
    "version": 3
   },
   "file_extension": ".py",
   "mimetype": "text/x-python",
   "name": "python",
   "nbconvert_exporter": "python",
   "pygments_lexer": "ipython3",
   "version": "3.12.4"
  }
 },
 "nbformat": 4,
 "nbformat_minor": 5
}
