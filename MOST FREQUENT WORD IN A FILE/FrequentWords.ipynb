{
 "cells": [
  {
   "cell_type": "code",
   "execution_count": 5,
   "id": "27dee237-b7d7-4c14-8f7d-e743511a28aa",
   "metadata": {},
   "outputs": [
    {
     "name": "stdout",
     "output_type": "stream",
     "text": [
      "The most frequent word is:  name\n",
      "Frequency:  4\n"
     ]
    }
   ],
   "source": [
    "file = open(\"test.txt\", \"r\")\n",
    "frequencyword = \"\"\n",
    "frequency = 0\n",
    "words = []\n",
    "\n",
    "for line in file:\n",
    "    lineword = line.lower().replace('.','').replace(',','').split()\n",
    "    for w in lineword:\n",
    "        words.append(w)\n",
    "\n",
    "for i in range(0,len(words)):\n",
    "    count = 1\n",
    "    for j in range(i+1, len(words)):\n",
    "        if(words[i] == words[j]):\n",
    "            count += 1\n",
    "\n",
    "    if (count > frequency ):\n",
    "        frequency = count\n",
    "        frequencyword = words[i]\n",
    "\n",
    "print(f\"The most frequent word is: \", frequencyword)\n",
    "print(f\"Frequency: \", frequency)"
   ]
  },
  {
   "cell_type": "code",
   "execution_count": null,
   "id": "c0b16297-de7e-410b-9c70-7bfc3eaa6731",
   "metadata": {},
   "outputs": [],
   "source": []
  }
 ],
 "metadata": {
  "kernelspec": {
   "display_name": "Python 3 (ipykernel)",
   "language": "python",
   "name": "python3"
  },
  "language_info": {
   "codemirror_mode": {
    "name": "ipython",
    "version": 3
   },
   "file_extension": ".py",
   "mimetype": "text/x-python",
   "name": "python",
   "nbconvert_exporter": "python",
   "pygments_lexer": "ipython3",
   "version": "3.8.10"
  }
 },
 "nbformat": 4,
 "nbformat_minor": 5
}
