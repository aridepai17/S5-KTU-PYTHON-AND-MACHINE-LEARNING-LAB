{
 "cells": [
  {
   "cell_type": "code",
   "execution_count": 4,
   "id": "864db6cb-9c95-4e7c-be2e-629e42007742",
   "metadata": {},
   "outputs": [
    {
     "name": "stdin",
     "output_type": "stream",
     "text": [
      "Enter number of rows for matrix A:  3\n",
      "Enter number of columns for matrix A:  3\n"
     ]
    },
    {
     "name": "stdout",
     "output_type": "stream",
     "text": [
      "\n"
     ]
    },
    {
     "name": "stdin",
     "output_type": "stream",
     "text": [
      "Enter number of rows for matrix B:  3\n",
      "Enter number of columns for matrix B:  3\n"
     ]
    },
    {
     "name": "stdout",
     "output_type": "stream",
     "text": [
      "\n",
      "Enter values for matrix A\n"
     ]
    },
    {
     "name": "stdin",
     "output_type": "stream",
     "text": [
      "column 1 -> Enter 1 element: 2\n",
      "column 2 -> Enter 1 element: 2\n",
      "column 3 -> Enter 1 element: 2\n",
      "column 1 -> Enter 2 element: 2\n",
      "column 2 -> Enter 2 element: 2\n",
      "column 3 -> Enter 2 element: 2\n",
      "column 1 -> Enter 3 element: 2\n",
      "column 2 -> Enter 3 element: 2\n",
      "column 3 -> Enter 3 element: 2\n"
     ]
    },
    {
     "name": "stdout",
     "output_type": "stream",
     "text": [
      "\n",
      "Enter values for matrix B \n"
     ]
    },
    {
     "name": "stdin",
     "output_type": "stream",
     "text": [
      "column 1 -> Enter 1 element: 1\n",
      "column 2 -> Enter 1 element: 1\n",
      "column 3 -> Enter 1 element: 1\n",
      "column 1 -> Enter 2 element: 1\n",
      "column 2 -> Enter 2 element: 1\n",
      "column 3 -> Enter 2 element: 1\n",
      "column 1 -> Enter 3 element: 1\n",
      "column 2 -> Enter 3 element: 1\n",
      "column 3 -> Enter 3 element: 1\n"
     ]
    },
    {
     "name": "stdout",
     "output_type": "stream",
     "text": [
      "\n",
      "Matrix A :\n",
      "[2, 2, 2]\n",
      "[2, 2, 2]\n",
      "[2, 2, 2]\n",
      "\n",
      "Matrix B :\n",
      "[1, 1, 1]\n",
      "[1, 1, 1]\n",
      "[1, 1, 1]\n",
      "\n",
      "Multiplication of Matrix A and Matrix B is :\n",
      "[6, 6, 6]\n",
      "[6, 6, 6]\n",
      "[6, 6, 6]\n"
     ]
    }
   ],
   "source": [
    "R1 = int(input('Enter number of rows for matrix A: '))\n",
    "C1 = int(input('Enter number of columns for matrix A: '))\n",
    "\n",
    "print() \n",
    "\n",
    "R2 = int(input('Enter number of rows for matrix B: '))\n",
    "C2  = int(input('Enter number of columns for matrix B: '))\n",
    "\n",
    "print()\n",
    "\n",
    "if C1 == R2:\n",
    "    print('Enter values for matrix A')\n",
    "    matrixA = [[int(input(f\"Column {j+1} -> Enter {i+1} element:\")) for j in range(C1)] for i in range(R2) ]\n",
    "\n",
    "    print() \n",
    "\n",
    "    print('Enter values for matrix B ')\n",
    "    matrixB = [[int(input(f\"Column {j+1} -> Enter {i+1} element:\")) for j in range(C2)] for i in range(R2) ]\n",
    "\n",
    "    print()\n",
    "\n",
    "    print('Matrix A :')\n",
    "    for i in matrixA:\n",
    "        print(i)\n",
    "\n",
    "    print()\n",
    "\n",
    "    print('Matrix B :')\n",
    "    for i in matrixB:\n",
    "        print(i)\n",
    "\n",
    "    result = [[0 for j in range(C2)] for i in range(R1)]\n",
    "\n",
    "    for i in range(len(matrixA)):\n",
    "        for j in range(len(matrixB[0])):\n",
    "            for k in range(len(matrixB)):\n",
    "                result[i][j] += matrixA[i][k] * matrixB[k][j]\n",
    "        \n",
    "    print() \n",
    "\n",
    "    print('Multiplication of Matrix A and Matrix B is :')\n",
    "    for i in result:  \n",
    "        print(i)\n",
    "        \n",
    "else:\n",
    "    print('Multiplication of matrices is not possible')\n"
   ]
  },
  {
   "cell_type": "code",
   "execution_count": null,
   "id": "47d3d24d-06be-4629-8ca9-9ae62d3b9dbc",
   "metadata": {},
   "outputs": [],
   "source": []
  }
 ],
 "metadata": {
  "kernelspec": {
   "display_name": "Python 3 (ipykernel)",
   "language": "python",
   "name": "python3"
  },
  "language_info": {
   "codemirror_mode": {
    "name": "ipython",
    "version": 3
   },
   "file_extension": ".py",
   "mimetype": "text/x-python",
   "name": "python",
   "nbconvert_exporter": "python",
   "pygments_lexer": "ipython3",
   "version": "3.8.10"
  }
 },
 "nbformat": 4,
 "nbformat_minor": 5
}
