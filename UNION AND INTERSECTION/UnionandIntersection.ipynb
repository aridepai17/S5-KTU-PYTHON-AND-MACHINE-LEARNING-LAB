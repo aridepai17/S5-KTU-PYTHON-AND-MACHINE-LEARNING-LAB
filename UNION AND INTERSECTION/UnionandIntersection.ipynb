{
 "cells": [
  {
   "cell_type": "code",
   "execution_count": 24,
   "id": "c523bb25-e478-47f2-9105-9fe94a0141fa",
   "metadata": {},
   "outputs": [
    {
     "name": "stdin",
     "output_type": "stream",
     "text": [
      "Enter number of elements :  5\n",
      " AB\n",
      " CD\n",
      " EF\n",
      " GH\n",
      " IJ\n"
     ]
    },
    {
     "name": "stdout",
     "output_type": "stream",
     "text": [
      "['AB', 'CD', 'EF', 'GH', 'IJ']\n"
     ]
    },
    {
     "name": "stdin",
     "output_type": "stream",
     "text": [
      "Enter number of elements :  5\n",
      " AB\n",
      " CD\n",
      " 1\n",
      " 2\n",
      " 3\n"
     ]
    },
    {
     "name": "stdout",
     "output_type": "stream",
     "text": [
      "['AB', 'CD', '1', '2', '3']\n",
      "['AB', 'CD', 'EF', 'GH', 'IJ', '1', '2', '3']\n",
      "['AB', 'CD']\n"
     ]
    }
   ],
   "source": [
    "def UNION(list1, list2):\n",
    "    UNION = []\n",
    "    for item in list1:\n",
    "        if item not in UNION:\n",
    "            UNION.append(item)\n",
    "    for item in list2:\n",
    "        if item not in UNION:\n",
    "            UNION.append(item)\n",
    "    return UNION\n",
    "\n",
    "\n",
    "def INTERSECTION(list1, list2):\n",
    "    INTERSECTION = []\n",
    "    for item in list1:\n",
    "        if item in list2 and item not in INTERSECTION:\n",
    "            INTERSECTION.append(item)\n",
    "    return INTERSECTION\n",
    "\n",
    "list1 = []\n",
    "m = int(input(\"Enter number of elements : \"))\n",
    "for i in range(0, m):\n",
    "    element = input()\n",
    "    list1.append(element)  \n",
    "print(list1)\n",
    "\n",
    "list2 = []\n",
    "n = int(input(\"Enter number of elements : \"))\n",
    "for i in range(0,n):\n",
    "    ele = input()\n",
    "    list2.append(ele)\n",
    "print(list2)\n",
    "\n",
    "print(UNION(list1,list2))\n",
    "print(INTERSECTION(list1,list2))"
   ]
  },
  {
   "cell_type": "code",
   "execution_count": null,
   "id": "5a1027f3-354d-4a0c-a0a5-df41aeb24a4f",
   "metadata": {},
   "outputs": [],
   "source": []
  },
  {
   "cell_type": "code",
   "execution_count": null,
   "id": "0eb37b98-be2f-4503-ba7a-7f1f9ab099ec",
   "metadata": {},
   "outputs": [],
   "source": []
  }
 ],
 "metadata": {
  "kernelspec": {
   "display_name": "Python 3 (ipykernel)",
   "language": "python",
   "name": "python3"
  },
  "language_info": {
   "codemirror_mode": {
    "name": "ipython",
    "version": 3
   },
   "file_extension": ".py",
   "mimetype": "text/x-python",
   "name": "python",
   "nbconvert_exporter": "python",
   "pygments_lexer": "ipython3",
   "version": "3.8.10"
  }
 },
 "nbformat": 4,
 "nbformat_minor": 5
}
