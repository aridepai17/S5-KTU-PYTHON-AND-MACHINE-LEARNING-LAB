{
 "cells": [
  {
   "cell_type": "code",
   "execution_count": 26,
   "id": "bc318c49-dcab-4aaa-a122-a3d7e6107d4a",
   "metadata": {},
   "outputs": [
    {
     "name": "stdout",
     "output_type": "stream",
     "text": [
      "Shape of dataset': 1797 64\n",
      "Confusion Matrix:\n",
      "[[53  0  0  0  0  0  0  0  0  0]\n",
      " [ 0 49  0  0  0  0  0  0  1  0]\n",
      " [ 0  0 47  0  0  0  0  0  0  0]\n",
      " [ 0  0  1 52  0  1  0  0  0  0]\n",
      " [ 0  1  0  0 59  0  0  0  0  0]\n",
      " [ 0  0  0  0  0 64  0  1  0  1]\n",
      " [ 0  0  0  0  0  0 53  0  0  0]\n",
      " [ 0  0  0  0  0  0  0 54  0  1]\n",
      " [ 0  0  0  0  0  1  0  0 42  0]\n",
      " [ 0  0  0  0  1  0  0  1  1 56]]\n",
      "\n",
      "Accuracy:  0.9796296296296296\n",
      "\n",
      "Support Vectors:\n",
      "[[ 0.  0.  3. ...  5.  0.  0.]\n",
      " [ 0.  0.  0. ...  6.  0.  0.]\n",
      " [ 0.  0.  2. ...  1.  0.  0.]\n",
      " ...\n",
      " [ 0.  0.  2. ... 14. 10.  1.]\n",
      " [ 0.  0.  0. ...  7.  0.  0.]\n",
      " [ 0.  0.  2. ... 10.  0.  0.]]\n",
      "Total number of support vectors: 374\n"
     ]
    }
   ],
   "source": [
    "import numpy as np\n",
    "import matplotlib.pyplot as plt\n",
    "from sklearn import datasets\n",
    "from sklearn.model_selection import train_test_split\n",
    "from sklearn.svm import SVC\n",
    "from sklearn.metrics import confusion_matrix, accuracy_score\n",
    "\n",
    "# Load the digits dataset\n",
    "digits = datasets.load_digits()\n",
    "x, y = digits.data, digits.target\n",
    "r,c = x.shape\n",
    "\n",
    "#Dimensions of the dataset\n",
    "print(f\"Shape of dataset': {r} {c}\")\n",
    "\n",
    "# Split the dataset into training and testing sets\n",
    "x_train, x_test, y_train, y_test = train_test_split(x, y, test_size=0.3, random_state=42)\n",
    "\n",
    "# Create and train an SVC classifier\n",
    "classifier = SVC(kernel='linear')\n",
    "classifier.fit(x_train, y_train)\n",
    "\n",
    "# Make predictions on the test set\n",
    "y_pred = classifier.predict(x_test)\n",
    "\n",
    "# Evaluate the classifier\n",
    "print(\"Confusion Matrix:\")\n",
    "print(confusion_matrix(y_test, y_pred))\n",
    "\n",
    "#Accuracy \n",
    "accuracy = accuracy_score(y_test, y_pred)\n",
    "print(\"\\nAccuracy: \", accuracy)\n",
    "\n",
    "# Print the number of support vectors for each class\n",
    "print(\"\\nSupport Vectors:\")\n",
    "print(classifier.support_vectors_)\n",
    "\n",
    "# Print the total number of support vectors\n",
    "print(f\"Total number of support vectors: {len(classifier.support_vectors_)}\")"
   ]
  },
  {
   "cell_type": "code",
   "execution_count": null,
   "id": "f9e87b5e-6b11-451b-973c-3fc53aacc0b7",
   "metadata": {},
   "outputs": [],
   "source": []
  }
 ],
 "metadata": {
  "kernelspec": {
   "display_name": "Python 3 (ipykernel)",
   "language": "python",
   "name": "python3"
  },
  "language_info": {
   "codemirror_mode": {
    "name": "ipython",
    "version": 3
   },
   "file_extension": ".py",
   "mimetype": "text/x-python",
   "name": "python",
   "nbconvert_exporter": "python",
   "pygments_lexer": "ipython3",
   "version": "3.8.10"
  }
 },
 "nbformat": 4,
 "nbformat_minor": 5
}
